{
 "cells": [
  {
   "cell_type": "markdown",
   "metadata": {},
   "source": [
    "# PART-3 [Panorama Android App] (Bonus)\n",
    "\n",
    "## This part can be implemented in a number of ways. You can either implement the panorama app entirely in Java or you can use the code from your previous parts to build a python based back-end.\n",
    "\n",
    "## I would suugest you to implement the client code in Java and build a pyhton-based back-end using a flask server.\n",
    "\n",
    "#### Java client-side code: 1) create a server task and build a module to upload(HTTP POST) photos taken from camera to a server.  2) Get result of the panorama from the server and preview it on the screen. \n",
    "#### Back-end code:  Create a python-based flask server and run the code from your first part of this assignment using the os.system() command and return the result."
   ]
  }
 ],
 "metadata": {
  "kernelspec": {
   "display_name": "Python 2",
   "language": "python",
   "name": "python2"
  },
  "language_info": {
   "codemirror_mode": {
    "name": "ipython",
    "version": 2
   },
   "file_extension": ".py",
   "mimetype": "text/x-python",
   "name": "python",
   "nbconvert_exporter": "python",
   "pygments_lexer": "ipython2",
   "version": "2.7.15"
  }
 },
 "nbformat": 4,
 "nbformat_minor": 2
}
